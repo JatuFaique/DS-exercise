{
 "cells": [
  {
   "cell_type": "markdown",
   "metadata": {},
   "source": [
    "\n"
   ]
  },
  {
   "cell_type": "code",
   "execution_count": 1,
   "metadata": {},
   "outputs": [],
   "source": [
    "#21/05\n",
    "#Change train test spli values and visualise the labelling"
   ]
  },
  {
   "cell_type": "markdown",
   "metadata": {},
   "source": [
    "### <span style=\"color:#0b486b\">Instructions</span>\n",
    "\n",
    "This notebook has been prepared for you to complete the Data Science Project. Some sections have been pre-filled  to help you get started. **The total mark for this task is 100**.\n",
    "\n",
    "There are two parts in this notebook that require you to complete:\n",
    "\n",
    "* **Part 1**: *Linear Regression* (**70 marks**)\n",
    "* **Part 2**: *Classification* (**30 marks**)\n",
    "\n",
    "Each part includes three main components:\n",
    " * **A:** Load a dataset from sklearn and examine it.\n",
    " * **B:** Build a training model and make predictions.\n",
    " * **C:** Report the results and visualize the data.\n",
    "\n",
    "Before you start, read the entire notebook carefully to understand what you need to do. You should also refer to the main instructions in *Project_instructions.pdf*  to know what else you need to complete for this project.\n",
    "\n",
    "As you go through this notebook:\n",
    "\n",
    "\n",
    "* markdown cells marked with **Note** mean description sections.\n",
    "\n",
    "\n",
    "* markdown cells marked with **Instructions** mean the instructions given to you to complete the sections.\n",
    "\n",
    "\n",
    "* Instructions marked with **(D)** and **(HD)** are for students aiming at high grades. They are more involved and can be completed after all other instructions.\n",
    "\n",
    "\n",
    "* For each cell marked with **#YOU ARE REQUIRED TO INSERT YOUR CODE IN THIS CELL**, there will be places where you **must** supply your own codes when instructed. <br><br>\n",
    "\n",
    "* For each cell marked with **#YOU ARE REQUIRED TO INSERT YOUR COMMENT IN THIS CELL**, there will be place where you **must** provide your own comment when instructed. <br><br>\n",
    "\n",
    "\n",
    "In the end, you must execute the entire notebook and submit two files:\n",
    "\n",
    " 1. The source of your solution notebook: **[YourID]_project_solution.ipynb**\n",
    " 2. And an exported version of your output: **[YourID]_project_output.html**\n",
    "       \n",
    "\n",
    "Please proceed with the instructions for each part below to complete your tasks."
   ]
  },
  {
   "cell_type": "markdown",
   "metadata": {},
   "source": [
    "**Note**: The following packages will be required for this assignment. If you need to import more packages, you might append them to the end of the following cell. "
   ]
  },
  {
   "cell_type": "code",
   "execution_count": 1,
   "metadata": {},
   "outputs": [],
   "source": [
    "'''\n",
    "Import packages needed for processing\n",
    "'''\n",
    "import numpy as np\n",
    "from sklearn import datasets\n",
    "import sklearn.metrics as metrics\n",
    "\n",
    "from sklearn import linear_model\n",
    "from sklearn import naive_bayes\n",
    "from sklearn.manifold import TSNE\n",
    "import matplotlib.pyplot as plt \n",
    "\n",
    "\n",
    "%matplotlib inline\n",
    "\n",
    "'''\n",
    "If you need add any additional packages, then add them below this line\n",
    "'''\n",
    "\n",
    "from scipy.stats import pearsonr\n",
    "from sklearn.preprocessing import normalize"
   ]
  },
  {
   "cell_type": "markdown",
   "metadata": {},
   "source": [
    "# <span style=\"color:#0b486b\">Part 1: Linear Regression</span>\n",
    "\n",
    "In this part, you will be required to work on Linear Regression for the Linnerud dataset from sklearn.\n",
    "\n",
    "The Linnerud dataset is a multi-output regression dataset. It consists of three excercise (data) and three physiological (target) variables collected from twenty middle-aged men in a fitness club:\n",
    "\n",
    "physiological - containing 20 observations on 3 physiological variables:\n",
    "Weight, Waist and Pulse.\n",
    "\n",
    "exercise - containing 20 observations on 3 exercise variables:\n",
    "Chins, Situps and Jumps."
   ]
  },
  {
   "cell_type": "markdown",
   "metadata": {},
   "source": [
    "## Part 1A: Load and examine the Linnerud dataset"
   ]
  },
  {
   "cell_type": "markdown",
   "metadata": {},
   "source": [
    "**Instruction 1.1.** Write your code to load the **Linnerud** dataset from sklearn and assign it to a variable called `linnerud`.\n",
    "\n",
    "[**Total mark: 3**]"
   ]
  },
  {
   "cell_type": "code",
   "execution_count": 2,
   "metadata": {},
   "outputs": [
    {
     "name": "stdout",
     "output_type": "stream",
     "text": [
      "dict_keys(['data', 'feature_names', 'target', 'target_names', 'DESCR', 'data_filename', 'target_filename'])\n"
     ]
    }
   ],
   "source": [
    "# YOU ARE REQUIRED TO INSERT YOUR CODES IN THIS CELL\n",
    "'''\n",
    "1. Write your code to load the **Linnerud** dataset from sklearn \n",
    "    and assign it to a variable called `linnerud`.\n",
    "'''\n",
    "linnerud = datasets.load_linnerud()\n",
    "\n",
    "print(linnerud.keys())"
   ]
  },
  {
   "cell_type": "markdown",
   "metadata": {},
   "source": [
    "**Note:** `linnerud` is a dictionary with two keys: *'data'* - a numpy array containing the features and *'target'* containing the labels. The cell code below assigns the data to variable `X` and the labels to variable `Y`. Run the cell and use `X` and `Y` for later tasks."
   ]
  },
  {
   "cell_type": "code",
   "execution_count": 3,
   "metadata": {},
   "outputs": [],
   "source": [
    "X = linnerud['data']\n",
    "Y = linnerud['target']\n",
    "feature_names_X = linnerud['feature_names']\n",
    "label_names_Y = linnerud['target_names']"
   ]
  },
  {
   "cell_type": "code",
   "execution_count": 4,
   "metadata": {},
   "outputs": [
    {
     "data": {
      "text/plain": [
       "((20, 3), (20, 3), ['Chins', 'Situps', 'Jumps'], ['Weight', 'Waist', 'Pulse'])"
      ]
     },
     "execution_count": 4,
     "metadata": {},
     "output_type": "execute_result"
    }
   ],
   "source": [
    "X.shape , Y.shape , feature_names_X , label_names_Y"
   ]
  },
  {
   "cell_type": "markdown",
   "metadata": {},
   "source": [
    "**Instruction 1.2.** Now you need to examine the size and structure of the dataset. \n",
    "\n",
    "**Your tasks are:**\n",
    "1. Write your code to find and print out the number of **samples** and the number of **features** in the dataset. (1 mark)\n",
    "2. Print the feature and label names for the dataset. (1 mark)\n",
    "\n",
    "[**Total mark: 2**]"
   ]
  },
  {
   "cell_type": "code",
   "execution_count": 4,
   "metadata": {},
   "outputs": [
    {
     "name": "stdout",
     "output_type": "stream",
     "text": [
      "The number of samples:\n",
      "20\n",
      "The number of features:\n",
      "3\n",
      "Names of features: Chins Situps Jumps\n",
      "Label names: Weight Waist Pulse\n"
     ]
    }
   ],
   "source": [
    "# YOU ARE REQUIRED TO INSERT YOUR CODES IN THIS CELL\n",
    "'''\n",
    "1. Write your code to find and print out the number of **samples** \n",
    "    and the number of **features** in the dataset.\n",
    "    Using variable X.\n",
    "'''\n",
    "print('The number of samples:')\n",
    "# INSERT YOUR CODE HERE\n",
    "print(X.shape[0])\n",
    "\n",
    "print('The number of features:')\n",
    "# INSERT YOUR CODE HERE\n",
    "print(len(feature_names_X))\n",
    "\n",
    "\n",
    "# 2. Print the feature and label names for the dataset.\n",
    "# INSERT YOUR CODE HERE\n",
    "print(\"Names of features:\",*feature_names_X )\n",
    "print(\"Label names:\",*label_names_Y )\n"
   ]
  },
  {
   "cell_type": "markdown",
   "metadata": {},
   "source": [
    "**Instruction 1.3.** We also need to get a brief understanding about the task by doing some statistics on the features and labels.\n",
    "\n",
    "**Your tasks are:**\n",
    "\n",
    "1. Write your code to print the **min**, **max**, **median** for each of the features. You need to use a loop in this task. (2 marks)\n",
    "2. Construct a **box-plot** for each of the features. (3 marks)\n",
    "\n",
    "3. Write your code to print the **min**, **max**, **median** for each of the labels. You need to use a loop in this task. (1 marks)\n",
    "4. Construct a **box-plot** for each of the labels. (1 marks)\n",
    "\n",
    "Do not forget to look at the feature and label names and print them in the output accordingly.\n",
    "\n",
    "[**Total marks: 7**]"
   ]
  },
  {
   "cell_type": "code",
   "execution_count": 6,
   "metadata": {},
   "outputs": [
    {
     "name": "stdout",
     "output_type": "stream",
     "text": [
      "Max of  Chins  : 17.0\n",
      "Max of  Situps  : 251.0\n",
      "Max of  Jumps  : 250.0\n",
      "Min of  Chins  : 1.0\n",
      "Min of  Situps  : 50.0\n",
      "Min of  Jumps  : 25.0\n",
      "Median Chins  : 11.5\n",
      "Median Situps  : 122.5\n",
      "Median Jumps  : 54.0\n"
     ]
    }
   ],
   "source": [
    "# YOU ARE REQUIRED TO INSERT YOUR CODES IN THIS CELL\n",
    "#1. Write your code to print the min, max, median for each of the features. You need to use a loop in this task. \n",
    "# INSERT YOUR CODE HERE\n",
    "#max(X[:,1])\n",
    "for i in range(0,3):\n",
    "    #print(max(X[:,1]))\n",
    "    print(\"Max of \",feature_names_X[i],\" :\",np.max(X[:,i]))\n",
    "\n",
    "for i in range(0,3):\n",
    "    #print(max(X[:,1]))\n",
    "    print(\"Min of \",feature_names_X[i],\" :\",np.min(X[:,i]))\n",
    "for i in range(0,3):\n",
    "    #print(max(X[:,1]))\n",
    "    print(\"Median\",feature_names_X[i],\" :\",np.median(X[:,i]))\n",
    "          "
   ]
  },
  {
   "cell_type": "code",
   "execution_count": 7,
   "metadata": {},
   "outputs": [
    {
     "data": {
      "image/png": "[encoded data removed]",
      "text/plain": [
       "<Figure size 432x288 with 1 Axes>"
      ]
     },
     "metadata": {
      "needs_background": "light"
     },
     "output_type": "display_data"
    }
   ],
   "source": [
    "# YOU ARE REQUIRED TO INSERT YOUR CODES IN THIS CELL\n",
    "#2. Construct a box-plot for each of the features.\n",
    "feature1 = X[:,0]\n",
    "feature2 = X[:,1]\n",
    "feature3 = X[:,2]\n",
    "\n",
    "data = list([feature1 , feature2 ,feature3 ])\n",
    "\n",
    "fig,ax = plt.subplots()\n",
    "ax.boxplot(data)\n",
    "\n",
    "# title and axis labels\n",
    "ax.set_title('box plot')\n",
    "ax.set_xlabel('x-axis')\n",
    "ax.set_ylabel('y-axis')\n",
    "xticklabels=feature_names_X\n",
    "ax.set_xticklabels(xticklabels)\n",
    "\n",
    "\n",
    "# add horizontal grid lines\n",
    "ax.yaxis.grid(True)\n",
    "\n",
    "\n",
    "# show the plot\n",
    "plt.show()"
   ]
  },
  {
   "cell_type": "code",
   "execution_count": 10,
   "metadata": {},
   "outputs": [
    {
     "name": "stdout",
     "output_type": "stream",
     "text": [
      "Max for Weight  : 247.0\n",
      "Max for Waist  : 46.0\n",
      "Max for Pulse  : 74.0\n",
      "Min for Weight  : 138.0\n",
      "Min for Waist  : 31.0\n",
      "Min for Pulse  : 46.0\n",
      "Median for Weight  : 176.0\n",
      "Median for Waist  : 35.0\n",
      "Median for Pulse  : 55.0\n"
     ]
    }
   ],
   "source": [
    "# YOU ARE REQUIRED TO INSERT YOUR CODES IN THIS CELL\n",
    "#3. Write your code to print the min, max, median for each of the labels. You need to use a loop in this task. \n",
    "# INSERT YOUR CODE HERE\n",
    "for i in range(0,3):\n",
    "    #print(max(X[:,1]))\n",
    "    print(\"Max for\",label_names_Y[i],\" :\",np.max(Y[:,i]))\n",
    "\n",
    "for i in range(0,3):\n",
    "    #print(max(X[:,1]))\n",
    "    print(\"Min for\",label_names_Y[i],\" :\",np.min(Y[:,i]))\n",
    "for i in range(0,3):\n",
    "    #print(max(X[:,1]))\n",
    "    print(\"Median for\",label_names_Y[i],\" :\",np.median(Y[:,i]))\n",
    "          "
   ]
  },
  {
   "cell_type": "code",
   "execution_count": 11,
   "metadata": {},
   "outputs": [
    {
     "data": {
      "image/png": "[encoded data removed]",
      "text/plain": [
       "<Figure size 432x288 with 1 Axes>"
      ]
     },
     "metadata": {
      "needs_background": "light"
     },
     "output_type": "display_data"
    }
   ],
   "source": [
    "# YOU ARE REQUIRED TO INSERT YOUR CODES IN THIS CELL\n",
    "#4. Construct a box-plot for each of the features.\n",
    "# INSERT YOUR CODE HERE\n",
    "label1 = Y[:,0]\n",
    "label2 = Y[:,1]\n",
    "label3 = Y[:,2]\n",
    "\n",
    "data = list([label1 , label2 ,label3 ])\n",
    "\n",
    "fig,ax = plt.subplots()\n",
    "ax.boxplot(data)\n",
    "\n",
    "# title and axis labels\n",
    "ax.set_title('box plot')\n",
    "ax.set_xlabel('x-axis')\n",
    "ax.set_ylabel('y-axis')\n",
    "xticklabels=label_names_Y\n",
    "ax.set_xticklabels(xticklabels)\n",
    "\n",
    "\n",
    "# add horizontal grid lines\n",
    "ax.yaxis.grid(True)\n",
    "\n",
    "\n",
    "# show the plot\n",
    "plt.show()"
   ]
  },
  {
   "cell_type": "markdown",
   "metadata": {},
   "source": [
    "## Part 1B. Linear Regression\n",
    "\n",
    "You are required to apply Linear Regression to train and make predictions on the **Linnerud** dataset."
   ]
  },
  {
   "cell_type": "markdown",
   "metadata": {},
   "source": [
    "**Note:** To perform a supervised learning task, we need to train the model on a training set of the input data and the correct labels, and predict the trained model on **unseen** data. Then, we use the correct labels of the **unseen** data to evaluate the performance of the model. The **unseen** dataset is called the **test set**.\n",
    "\n",
    "In this part, we will be using one-dimensional linear regression using `Situps` feature and `Waist` label."
   ]
  },
  {
   "cell_type": "markdown",
   "metadata": {},
   "source": [
    "**Instruction 1.4.** First you need to split the required feature and label from the **Linnerud** dataset into a training set and a test set. We will use 70% samples for training and 30% for testing. Print the number of samples in each set.\n",
    "\n",
    "[**Total marks: 5**]"
   ]
  },
  {
   "cell_type": "code",
   "execution_count": 12,
   "metadata": {},
   "outputs": [
    {
     "name": "stdout",
     "output_type": "stream",
     "text": [
      "The number of samples in the training set:\n",
      "(14, 1)\n",
      "(14, 1)\n",
      "The number of samples in the test set:\n",
      "(6, 1)\n",
      "(6, 1)\n"
     ]
    }
   ],
   "source": [
    "# YOU ARE REQUIRED TO INSERT YOUR CODES IN THIS CELL\n",
    "X_for_1D_LR = X[:,np.where(np.array([feature_names_X])[0] == 'Situps')[0]]\n",
    "Y_for_1D_LR = Y[:,np.where(np.array([label_names_Y])[0] == 'Waist')[0]]\n",
    "\n",
    "# first, compute the number of samples in the training set:\n",
    "n_train = int(len(Y_for_1D_LR) * 0.7)\n",
    "\n",
    "# The training set is the first n_train samples in the dataset\n",
    "X_train = X_for_1D_LR[: n_train]\n",
    "Y_train = Y_for_1D_LR[: n_train]\n",
    "\n",
    "# The test set is the remaining samples in the dataset\n",
    "X_test = X_for_1D_LR[n_train: , :]\n",
    "Y_test = Y_for_1D_LR[n_train: , :]\n",
    "\n",
    "# Print the number of samples in the training set\n",
    "print('The number of samples in the training set:')\n",
    "# INSERT YOUR CODE HERE\n",
    "print(X_train.shape)\n",
    "print(Y_train.shape)\n",
    "\n",
    "# Print the number of samples in the test set\n",
    "print('The number of samples in the test set:')\n",
    "# INSERT YOUR CODE HERE\n",
    "print(X_test.shape)\n",
    "print(Y_test.shape)\n"
   ]
  },
  {
   "cell_type": "markdown",
   "metadata": {},
   "source": [
    "**Instruction 1.5.** Your tasks are:\n",
    "1. Create a Linear Regression model called `lr`. (5 marks)\n",
    "2. Fit the training data to the model. (5 marks)\n",
    "\n",
    "[**Total marks: 10**]"
   ]
  },
  {
   "cell_type": "code",
   "execution_count": 13,
   "metadata": {},
   "outputs": [],
   "source": [
    "# YOU ARE REQUIRED TO INSERT YOUR CODES IN THIS CELL\n",
    "\n",
    "lr = linear_model.LinearRegression()"
   ]
  },
  {
   "cell_type": "code",
   "execution_count": 14,
   "metadata": {},
   "outputs": [
    {
     "data": {
      "text/plain": [
       "LinearRegression(copy_X=True, fit_intercept=True, n_jobs=None, normalize=False)"
      ]
     },
     "execution_count": 14,
     "metadata": {},
     "output_type": "execute_result"
    }
   ],
   "source": [
    "# YOU ARE REQUIRED TO INSERT YOUR CODES IN THIS CELL\n",
    "lr.fit(X_train,Y_train)\n",
    "# INSERT YOUR CODE HERE"
   ]
  },
  {
   "cell_type": "markdown",
   "metadata": {},
   "source": [
    "**Instruction 1.6** Predict the output of the test set.\n",
    "\n",
    "[**Total marks: 5**]"
   ]
  },
  {
   "cell_type": "code",
   "execution_count": 15,
   "metadata": {
    "scrolled": true
   },
   "outputs": [],
   "source": [
    "# INSERT YOUR CODE HERE\n",
    "y_train_pred = lr.predict(X_train)\n",
    "y_test_pred = lr.predict(X_test)"
   ]
  },
  {
   "cell_type": "markdown",
   "metadata": {},
   "source": [
    "**Instruction 1.7** Construct a plot, where you will show the regression line for `Waist` vs `Situps`, the training data (use blue colour), the testing data (use green colour), and the residuals for the testing data.\n",
    "\n",
    "[**Total marks: 5**]"
   ]
  },
  {
   "cell_type": "code",
   "execution_count": 16,
   "metadata": {},
   "outputs": [
    {
     "data": {
      "image/png": "[encoded data removed]",
      "text/plain": [
       "<Figure size 432x288 with 1 Axes>"
      ]
     },
     "metadata": {
      "needs_background": "light"
     },
     "output_type": "display_data"
    },
    {
     "data": {
      "image/png": "[encoded data removed]",
      "text/plain": [
       "<Figure size 432x288 with 1 Axes>"
      ]
     },
     "metadata": {
      "needs_background": "light"
     },
     "output_type": "display_data"
    }
   ],
   "source": [
    "# YOU ARE REQUIRED TO INSERT YOUR CODES IN THIS CELL\n",
    "# Construct a plot, where you will show the regression line for Waist vs Situps, the training data (use blue colour), \n",
    "# the testing data (use green colour), and the residuals for the testing data.\n",
    "# INSERT YOUR CODE HERE\n",
    "viz_train = plt\n",
    "viz_train.scatter(X_train, Y_train, color='red')\n",
    "viz_train.plot(X_train, y_train_pred , color='blue')\n",
    "viz_train.title('Waist VS Situps (Training set)')\n",
    "viz_train.xlabel('Waist')\n",
    "viz_train.ylabel('Situps')\n",
    "viz_train.show()\n",
    "\n",
    "viz_train = plt\n",
    "viz_train.scatter(X_test, Y_test, color='red')\n",
    "viz_train.plot(X_test, y_test_pred , color='green')\n",
    "viz_train.title('Waist VS Situps (Test set)')\n",
    "viz_train.xlabel('Waist')\n",
    "viz_train.ylabel('Situps')\n",
    "viz_train.show()"
   ]
  },
  {
   "cell_type": "markdown",
   "metadata": {
    "collapsed": true
   },
   "source": [
    "## Part 1C. Results"
   ]
  },
  {
   "cell_type": "markdown",
   "metadata": {},
   "source": [
    "**Note:** To evaluate the performance of a Linear Regression model, two commonly used measures are **mean absolute error** and **root mean squared error**.\n",
    "\n",
    "**mean absolute error** is defined by:\n",
    "\n",
    "$$mean\\_absolute\\_error(Y_{test}, Y_{pred}) = \\frac{1}{n_{samples}}\\sum_{i=1}^{n_{samples}}|y_{test}^i - y_{pred}^i|$$\n",
    "\n",
    "**root mean squared error** is defined by:\n",
    "\n",
    "$$root\\_mean\\_squared\\_error(Y_{test}, Y_{pred}) = \\sqrt{\\frac{1}{n_{samples}}\\sum_{i=1}^{n_{samples}}(y_{test}^i - y_{pred}^i)^2}$$\n"
   ]
  },
  {
   "cell_type": "markdown",
   "metadata": {},
   "source": [
    "**Instruction 1.8.** Compute **mean absolute error** and **root mean squared error** between the correct labels and the predictions of the test set and print these two values.\n",
    "\n",
    "[**Total marks: 8**]\n",
    "\n",
    "**Hint:** You might need to use [Regression metrics](http://scikit-learn.org/stable/modules/model_evaluation.html#regression-metrics) from sklearn."
   ]
  },
  {
   "cell_type": "code",
   "execution_count": 18,
   "metadata": {},
   "outputs": [
    {
     "name": "stdout",
     "output_type": "stream",
     "text": [
      "Mean Abs Error: 2.6328834897177003\n",
      "Mean Sqr Error: 9.216976671960381\n"
     ]
    }
   ],
   "source": [
    "# YOU ARE REQUIRED TO INSERT YOUR CODES IN THIS CELL\n",
    "\n",
    "# Compute the mean absolute error between Y_test and Y_pred\n",
    "# Then, print the value\n",
    "# INSERT YOUR CODE HERE\n",
    "mean_abs_error = metrics.mean_absolute_error(Y_test, y_test_pred)\n",
    "print(\"Mean Abs Error:\" , mean_abs_error)\n",
    "# Compute the root mean squared error between Y_test and Y_pred\n",
    "# Then, print the value\n",
    "# INSERT YOUR CODE HERE\n",
    "mean_sqr_error = metrics.mean_squared_error(Y_test, y_test_pred)\n",
    "print(\"Mean Sqr Error:\" , mean_sqr_error)\n"
   ]
  },
  {
   "cell_type": "markdown",
   "metadata": {},
   "source": [
    "## Part 1D. More advanced modelling"
   ]
  },
  {
   "cell_type": "markdown",
   "metadata": {},
   "source": [
    "**Instruction 1.9 (D, HD)** As we can see, the dataset has multi-dimensional feature vector. Previously we used only one feature to do one-dimensional linear regression model. In this task, we want to create a **two**-dimensional linear regression model for the label `Weight`. First of all, **using Pearson correlation**, we need to decide, which two of three independent variables would be best to use for Y vector in linear regression. Therefore, your tasks are:\n",
    "1. Write your code to find out which two out of three variables you will be using for linear regression. (5 marks)\n",
    "2. Explain your choice. (5 marks)\n",
    "\n",
    "[**Total marks: 10**]"
   ]
  },
  {
   "cell_type": "code",
   "execution_count": 19,
   "metadata": {},
   "outputs": [
    {
     "name": "stdout",
     "output_type": "stream",
     "text": [
      "Correlation with label Weight of Chins 0.05526199863270245\n",
      "Correlation with label Weight of Situps -0.2331111238835452\n",
      "Correlation with label Weight of Jumps 0.2610364343881567\n"
     ]
    }
   ],
   "source": [
    "# YOU ARE REQUIRED TO INSERT YOUR CODES IN THIS CELL\n",
    "# Write your code to find out which two out of three variable you will be using for linear regression.\n",
    "# INSERT YOUR CODE HERE\n",
    "\n",
    "X_norm = normalize(X)\n",
    "Y_norm = normalize(Y)\n",
    "\n",
    "#X_norm\n",
    "\n",
    "for i in range(0,3):\n",
    "    corr , _ = pearsonr(X_norm[:,i],Y_norm[:,0])\n",
    "    print(\"Correlation with label Weight of\",feature_names_X[i], corr)\n",
    "\n"
   ]
  },
  {
   "cell_type": "code",
   "execution_count": null,
   "metadata": {},
   "outputs": [],
   "source": [
    "# YOU ARE REQUIRED TO INSERT YOUR COMMENT IN THIS CELL\n",
    "# INSERT YOUR COMMENT HERE\n",
    "#From the above we code we can conclude that that after checking the correlation coeff of normalized features with\n",
    "#target varable that Situps have Strongly negative relationship and Jumps have Strongly POsitive relationship  while that of\n",
    "#chins is very low as compared to other ~0.05"
   ]
  },
  {
   "cell_type": "markdown",
   "metadata": {},
   "source": [
    "**Instruction 1.10 (D, HD)** After we have decided, which features are best to use for linear regression, we need to create training and testing data, where the feature vector is two-dimensional and the label is `Weight`. Also, we will need to compare the two-dimensional linear regression (based on two best independent variables) with on-dimensional linear regression (based on the best independent variable). Therefore, we will need to create a dataset with one-dimensional feature vector for comparison.\n",
    "\n",
    "Your task is:\n",
    "1. Create the training and testing datasets for two-dimensional linear regression. (4 marks)\n",
    "2. Create the one-dimensional training and testing dataset for comparison with 2D linear regression. (1 mark)\n",
    "\n",
    "[**Total marks: 5**]"
   ]
  },
  {
   "cell_type": "code",
   "execution_count": 27,
   "metadata": {},
   "outputs": [],
   "source": [
    "# YOU ARE REQUIRED TO INSERT YOUR CODES IN THIS CELL\n",
    "X_for_2D_LR = X[:,1:3]\n",
    "Y_for_2D_LR = Y[:,0]\n",
    "Y_for_2D_LR = Y_for_2D_LR.reshape(-1,1)\n",
    "\n",
    "# first, compute the number of samples in the training set:\n",
    "n_train = int(len(Y_for_2D_LR) * 0.7)\n",
    "\n",
    "# The training set is the first n_train samples in the dataset\n",
    "X_2dtrain = X_for_2D_LR[: n_train]\n",
    "Y_2dtrain = Y_for_2D_LR[: n_train]\n",
    "\n",
    "# The test set is the remaining samples in the dataset\n",
    "X_2dtest = X_for_2D_LR[n_train:]\n",
    "Y_2dtest = Y_for_2D_LR[n_train:]\n",
    "\n",
    "# The 1D comparison dataset\n",
    "X_1dcomp = X[:,0]\n",
    "Y_1dcomp = Y[:,0]\n",
    "X_1dcomp = X_1dcomp.reshape(-1,1)\n",
    "Y_1dcomp = Y_1dcomp.reshape(-1,1)\n",
    "X_1dcomp_train = X_1dcomp[: n_train]\n",
    "Y_1dcomp_train = Y_1dcomp[: n_train]\n",
    "X_1dcomp_test = X_1dcomp[n_train:]\n",
    "Y_1dcomp_test = Y_1dcomp[n_train:]\n"
   ]
  },
  {
   "cell_type": "markdown",
   "metadata": {},
   "source": [
    "**Instruction 1.11 (D, HD)** We have the training and testing data now. Therefore, your tasks are:\n",
    "1. Create a linear regression model named `lr2d`. (1 mark)\n",
    "2. Fit the training data to the model. (1 mark)\n",
    "3. Predict the output on the test set. (1 mark)\n",
    "4. Compute **mean absolute error** and **root mean squared error** between the correct labels and the predictions of the test set and print these two values. (1 mark)\n",
    "\n",
    "[**Total marks: 4**]"
   ]
  },
  {
   "cell_type": "code",
   "execution_count": 28,
   "metadata": {},
   "outputs": [],
   "source": [
    "# YOU ARE REQUIRED TO INSERT YOUR CODES IN THIS CELL\n",
    "# INSERT YOUR CODE HERE\n",
    "lr2d = linear_model.LinearRegression()"
   ]
  },
  {
   "cell_type": "code",
   "execution_count": 29,
   "metadata": {},
   "outputs": [
    {
     "data": {
      "text/plain": [
       "LinearRegression(copy_X=True, fit_intercept=True, n_jobs=None, normalize=False)"
      ]
     },
     "execution_count": 29,
     "metadata": {},
     "output_type": "execute_result"
    }
   ],
   "source": [
    "# YOU ARE REQUIRED TO INSERT YOUR CODES IN THIS CELL\n",
    "# INSERT YOUR CODE HERE\n",
    "lr2d.fit(X_2dtrain, Y_2dtrain)"
   ]
  },
  {
   "cell_type": "code",
   "execution_count": 30,
   "metadata": {},
   "outputs": [],
   "source": [
    "# YOU ARE REQUIRED TO INSERT YOUR CODES IN THIS CELL\n",
    "# INSERT YOUR CODE HERE\n",
    "y_2dtest_pred = lr2d.predict(X_2dtest)"
   ]
  },
  {
   "cell_type": "code",
   "execution_count": 36,
   "metadata": {},
   "outputs": [
    {
     "name": "stdout",
     "output_type": "stream",
     "text": [
      "Mean Abs Error: 24.034276534695476\n",
      "Mean Sqr Error: 942.8943855971461\n"
     ]
    }
   ],
   "source": [
    "# YOU ARE REQUIRED TO INSERT YOUR CODES IN THIS CELL\n",
    "# INSERT YOUR CODE HERE\n",
    "mean_abs_error = metrics.mean_absolute_error(Y_2dtest, y_2dtest_pred)\n",
    "print(\"Mean Abs Error:\" , mean_abs_error)\n",
    "\n",
    "mean_sqr_error = metrics.mean_squared_error(Y_2dtest, y_2dtest_pred)\n",
    "print(\"Mean Sqr Error:\" , mean_sqr_error)\n"
   ]
  },
  {
   "cell_type": "markdown",
   "metadata": {},
   "source": [
    "**Instruction 1.12 (D, HD)** Now we can compare the errors for two-dimensional linear regression with one-dimensional linear regression. Your tasks are:\n",
    "1. Create a linear regression model named `lr1d_compare`. Fit the one-dimensional training data and the same labels to the model. Predict the output on the comparison dataset. (1 mark)\n",
    "2. Compute **mean absolute error** and **root mean squared error** between the correct labels and the predictions of the comparison set and print these two values. (1 mark)\n",
    "3. Discuss the findings and explain the result. In discussion, consider the relationships between the size of the dataset, the Pearson correlation coefficients you have calculated above, the `Weight` values and the values of errors. (4 marks)\n",
    "\n",
    "[**Total marks: 6**]"
   ]
  },
  {
   "cell_type": "code",
   "execution_count": 38,
   "metadata": {},
   "outputs": [],
   "source": [
    "# YOU ARE REQUIRED TO INSERT YOUR CODES IN THIS CELL\n",
    "# INSERT YOUR CODE HERE\n",
    "lr1d_compare = linear_model.LinearRegression()\n",
    "lr1d_compare.fit(X_1dcomp_train,Y_1dcomp_train)\n",
    "y_1dtest_pred = lr1d_compare.predict(X_1dcomp_test)"
   ]
  },
  {
   "cell_type": "code",
   "execution_count": 39,
   "metadata": {},
   "outputs": [
    {
     "name": "stdout",
     "output_type": "stream",
     "text": [
      "Mean Abs Error: 25.198428649735053\n",
      "Mean Sqr Error: 1069.6019066718975\n"
     ]
    }
   ],
   "source": [
    "# YOU ARE REQUIRED TO INSERT YOUR CODES IN THIS CELL\n",
    "# INSERT YOUR CODE HERE\n",
    "mean_abs_error = metrics.mean_absolute_error(Y_1dcomp_test, y_1dtest_pred)\n",
    "print(\"Mean Abs Error:\" , mean_abs_error)\n",
    "\n",
    "mean_sqr_error = metrics.mean_squared_error(Y_1dcomp_test, y_1dtest_pred)\n",
    "print(\"Mean Sqr Error:\" , mean_sqr_error)"
   ]
  },
  {
   "cell_type": "code",
   "execution_count": 40,
   "metadata": {},
   "outputs": [],
   "source": [
    "# YOU ARE REQUIRED TO INSERT YOUR COMMENT IN THIS CELL\n",
    "# INSERT YOUR COMMENT HERE\n",
    "Since we have taken into account multiple variables for our regression analysis based on their\n",
    "Pearson correlation coeffitient, we have seen a moderate relationship of variable with the target\n",
    "and hence their result. When we compare our 2d feature regression MSE with that of 1d feature which had little to no\n",
    "relationship with target it is seen that MSE is increased and model doesnt fits well.\n",
    "Since we are dealing with a really small number of observations hence test set evaluation terms are pretty awful, since \n",
    "more data gives more accuracy.\n"
   ]
  },
  {
   "cell_type": "markdown",
   "metadata": {},
   "source": [
    "# <span style=\"color:#0b486b\">Part 2: Classification</span>\n",
    "\n",
    "In this part, you will be required to apply Naive Bayes algorithm for the classification task on the **breast cancer** dataset from sklearn. More about the dataset can be found [here](http://scikit-learn.org/stable/modules/generated/sklearn.datasets.load_breast_cancer.html#sklearn.datasets.load_breast_cancer). \n",
    "\n",
    "Here, we apply Multinomial Naive Bayes for discrete features. We can construct a Multinomial Naive Bayes model by calling **naive_bayes.MultinomialNB()** from sklearn package. More about the model can be found [here](http://scikit-learn.org/stable/modules/generated/sklearn.naive_bayes.MultinomialNB.html#sklearn.naive_bayes.MultinomialNB)\n"
   ]
  },
  {
   "cell_type": "markdown",
   "metadata": {},
   "source": [
    "## Part 2A: Load and examine the dataset"
   ]
  },
  {
   "cell_type": "markdown",
   "metadata": {},
   "source": [
    "**Instruction 2.1.** Write your code to load the **breast cancer** dataset from sklearn and assign it to a variable called `cancer`.\n",
    "\n",
    "[**Total mark: 1**]"
   ]
  },
  {
   "cell_type": "code",
   "execution_count": 41,
   "metadata": {},
   "outputs": [
    {
     "name": "stdout",
     "output_type": "stream",
     "text": [
      "dict_keys(['data', 'target', 'target_names', 'DESCR', 'feature_names', 'filename'])\n"
     ]
    }
   ],
   "source": [
    "# YOU ARE REQUIRED TO INSERT YOUR CODES IN THIS CELL\n",
    "'''\n",
    "1. Write your code to load the dataset from sklearn and assign it to a variable called `cancer`.\n",
    "'''\n",
    "cancer =  datasets.load_breast_cancer()\n",
    "\n",
    "print(cancer.keys())"
   ]
  },
  {
   "cell_type": "markdown",
   "metadata": {},
   "source": [
    "**Note:** The cell code below assigns the data to variable `X` and the labels to variable `Y`. Run the cell and use `X` and `Y` for later tasks."
   ]
  },
  {
   "cell_type": "code",
   "execution_count": 42,
   "metadata": {},
   "outputs": [],
   "source": [
    "X = cancer['data']\n",
    "Y = cancer['target']\n",
    "X_feature_names = cancer['feature_names']\n",
    "Y_target = cancer['target_names']"
   ]
  },
  {
   "cell_type": "markdown",
   "metadata": {},
   "source": [
    "**Instruction 2.2.** Now you need to examine the size of data. Write your code to find and print out the number of **samples** and the number of **features** in the dataset.\n",
    "\n",
    "[**Total mark: 1**]"
   ]
  },
  {
   "cell_type": "code",
   "execution_count": 43,
   "metadata": {},
   "outputs": [
    {
     "name": "stdout",
     "output_type": "stream",
     "text": [
      "The number of samples: 569\n",
      "The number of features: 30\n"
     ]
    }
   ],
   "source": [
    "# YOU ARE REQUIRED TO INSERT YOUR CODES IN THIS CELL\n",
    "'''\n",
    "2. Write your code to find and print out the number of **samples** \n",
    "    and the number of **features** in the dataset.\n",
    "    Using variable X.\n",
    "'''\n",
    "print('The number of samples:',X.shape[0])\n",
    "\n",
    "\n",
    "print('The number of features:',X.shape[1])"
   ]
  },
  {
   "cell_type": "markdown",
   "metadata": {},
   "source": [
    "**Instruction 2.3.** The following code segment is designed to do some statistics on the labels to get a brief understanding about the prediction task. This is a classication task, it is important to know the number of categories (or number of classes) in the dataset and their frequencies.\n",
    "\n",
    "**Your tasks are:**\n",
    "\n",
    "1. Write your code to compute and print the number of classes in the dataset. (1 marks)\n",
    "2. Write your code to compute and print the number of occurrences of each class. (3 marks)\n",
    "\n",
    "[**Total marks: 4**]"
   ]
  },
  {
   "cell_type": "code",
   "execution_count": 44,
   "metadata": {},
   "outputs": [
    {
     "name": "stdout",
     "output_type": "stream",
     "text": [
      "The number of classes in the dataset: 2\n"
     ]
    }
   ],
   "source": [
    "# YOU ARE REQUIRED TO INSERT YOUR CODES IN THIS CELL\n",
    "'''\n",
    "1. Write your code to compute and print the number of classes in the dataset.\n",
    "    Using variable Y.\n",
    "'''\n",
    "\n",
    "# compute and print the number of classes.\n",
    "# INSERT YOUR CODE HERE\n",
    "\n",
    "print(\"The number of classes in the dataset:\" , Y_target.shape[0])\n"
   ]
  },
  {
   "cell_type": "code",
   "execution_count": 47,
   "metadata": {},
   "outputs": [
    {
     "name": "stdout",
     "output_type": "stream",
     "text": [
      "The Number of occurance of class 0 : [  0 212]\n",
      "The Number of occurance of class 1 : [  1 357]\n"
     ]
    }
   ],
   "source": [
    "# YOU ARE REQUIRED TO INSERT YOUR CODES IN THIS CELL\n",
    "'''\n",
    "2. Write your code to compute and print the number of occurrences of each class.\n",
    "'''\n",
    "\n",
    "# compute and print the number of occurrences of each class\n",
    "# INSERT YOUR CODE HERE\n",
    "\n",
    "(unique,count) = np.unique(Y,return_counts = True )\n",
    "frequencies = np.asarray((unique, count)).T\n",
    "#frequencies[1][1]\n",
    "print(\"The Number of occurance of class 0 :\" , frequencies[0])\n",
    "print(\"The Number of occurance of class 1 :\" , frequencies[1])\n"
   ]
  },
  {
   "cell_type": "markdown",
   "metadata": {},
   "source": [
    "## Part 2B. Classification with Naive Bayes\n",
    "\n",
    "You are required to apply Naive Bayes to train and make predictions on the **breast cancer** dataset."
   ]
  },
  {
   "cell_type": "markdown",
   "metadata": {},
   "source": [
    "Multinomial Naive Bayes classifier is used for discrete data. The features of the breast cancer dataset are however real values. The function below discretise the features in to 0 (low), 1 (middle) and 2 (high). Run the cell below."
   ]
  },
  {
   "cell_type": "code",
   "execution_count": 48,
   "metadata": {},
   "outputs": [],
   "source": [
    "def discretise(X):\n",
    "    # for each feature, values smaller than 33% percentile are set by 0 (low), \n",
    "    # from 33% to 67% percentile are set by 1 (middle) and other are set by 2 (high).\n",
    "    \n",
    "    n_feats = X.shape[-1]\n",
    "    X_discrete = np.zeros(X.shape)\n",
    "    \n",
    "    for i in range(n_feats):\n",
    "        # compute val1 and val2 as the percentile of 33% and 67%, respectively of the column i\n",
    "        val1, val2 = np.percentile(X[:, i], 33), np.percentile(X[:, i], 67)   \n",
    "        \n",
    "        # increase all discrete values by 1 for all values in X that larger than val1\n",
    "        ids = np.where(X[:, i] > val1)[0]\n",
    "        X_discrete[ids, i] += 1\n",
    "        \n",
    "        # increase all discrete values by 1 for all values in X that larger than val2\n",
    "        ids = np.where(X[:, i] > val2)[0]\n",
    "        X_discrete[ids, i] += 1\n",
    "        \n",
    "    return X_discrete\n"
   ]
  },
  {
   "cell_type": "markdown",
   "metadata": {},
   "source": [
    "Then we call the discretise function for the feature X. Run the cell below and your data are ready for classification."
   ]
  },
  {
   "cell_type": "code",
   "execution_count": 49,
   "metadata": {},
   "outputs": [],
   "source": [
    "X = discretise(X)"
   ]
  },
  {
   "cell_type": "markdown",
   "metadata": {},
   "source": [
    "**Instruction 2.4.** Similar to **Part 1**, you need to split the dataset into a training set and a test set. We will use 70% samples for training and 30% for testing. Print the number of samples in each set.\n",
    "\n",
    "[**Total marks: 2**]"
   ]
  },
  {
   "cell_type": "code",
   "execution_count": 51,
   "metadata": {},
   "outputs": [
    {
     "name": "stdout",
     "output_type": "stream",
     "text": [
      "The number of samples in the training set: 398\n",
      "The number of samples in the test set: 171\n"
     ]
    }
   ],
   "source": [
    "# YOU ARE REQUIRED TO INSERT YOUR CODES IN THIS CELL\n",
    "\n",
    "# first, compute the number of samples in the training set:\n",
    "n_train = int(len(Y) * 0.7)\n",
    "\n",
    "# The training set is the first n_train samples in the dataset\n",
    "X_train = X[:n_train]\n",
    "Y_train = Y[:n_train]\n",
    "# The test set is the remaining samples in the dataset\n",
    "# INSERT YOUR CODE HERE\n",
    "# INSERT YOUR CODE HERE\n",
    "\n",
    "X_test = X[n_train:]\n",
    "Y_test = Y[n_train:]\n",
    "\n",
    "\n",
    "# Print the number of samples in the training set\n",
    "print('The number of samples in the training set:',X_train.shape[0])\n",
    "# INSERT YOUR CODE HERE\n",
    "\n",
    "\n",
    "# Print the number of samples in the test set\n",
    "print('The number of samples in the test set:',X_test.shape[0])\n",
    "# INSERT YOUR CODE HERE"
   ]
  },
  {
   "cell_type": "markdown",
   "metadata": {},
   "source": [
    "**Instruction 2.5.** Create a Multinomial Naive Bayes model called `mnb`.\n",
    "\n",
    "[**Total marks: 2**]"
   ]
  },
  {
   "cell_type": "code",
   "execution_count": 52,
   "metadata": {},
   "outputs": [],
   "source": [
    "# YOU ARE REQUIRED TO INSERT YOUR CODES IN THIS CELL\n",
    "# INSERT YOUR CODE HERE\n",
    "mnb = naive_bayes.MultinomialNB()"
   ]
  },
  {
   "cell_type": "markdown",
   "metadata": {},
   "source": [
    "**Instruction 2.6.** Fit the training data to the model.\n",
    "\n",
    "[**Total marks: 2**]"
   ]
  },
  {
   "cell_type": "code",
   "execution_count": 53,
   "metadata": {},
   "outputs": [
    {
     "data": {
      "text/plain": [
       "MultinomialNB(alpha=1.0, class_prior=None, fit_prior=True)"
      ]
     },
     "execution_count": 53,
     "metadata": {},
     "output_type": "execute_result"
    }
   ],
   "source": [
    "# YOU ARE REQUIRED TO INSERT YOUR CODES IN THIS CELL\n",
    "# INSERT YOUR CODE HERE\n",
    "mnb.fit(X_train,Y_train)"
   ]
  },
  {
   "cell_type": "markdown",
   "metadata": {},
   "source": [
    "**Instruction 2.7** Predict the output of the test set.\n",
    "\n",
    "[**Total marks: 2**]"
   ]
  },
  {
   "cell_type": "code",
   "execution_count": 54,
   "metadata": {},
   "outputs": [],
   "source": [
    "# INSERT YOUR CODE HERE\n",
    "y_test_pred = mnb.predict(X_test)"
   ]
  },
  {
   "cell_type": "markdown",
   "metadata": {
    "collapsed": true
   },
   "source": [
    "## Part 2C. Results and Visualization"
   ]
  },
  {
   "cell_type": "markdown",
   "metadata": {},
   "source": [
    "**Note:** To evaluate the performance of a classification task, commonly used measures are **accuracy**, **precision**, **recall** and **f1-score**."
   ]
  },
  {
   "cell_type": "markdown",
   "metadata": {},
   "source": [
    "**Instruction 2.8.** Compute the **accuracy**, **precision**, **recall** and **f1-score** of the predictions on the test set and print these values.\n",
    "\n",
    "[**Total marks: 8**]\n",
    "\n",
    "**Hint:** You might need to see [Classification metrics](http://scikit-learn.org/stable/modules/model_evaluation.html#classification-metrics) from sklearn."
   ]
  },
  {
   "cell_type": "code",
   "execution_count": 55,
   "metadata": {},
   "outputs": [
    {
     "name": "stdout",
     "output_type": "stream",
     "text": [
      "the accuracy score: 0.7309941520467836\n",
      "the precision score: 0.9886363636363636\n",
      "the recall score: 0.6590909090909091\n",
      "the f1 score: 0.790909090909091\n"
     ]
    }
   ],
   "source": [
    "# YOU ARE REQUIRED TO INSERT YOUR CODES IN THIS CELL\n",
    "\n",
    "# Compute and print the accuracy of predictions on the test set\n",
    "# INSERT YOUR CODE HERE\n",
    "\n",
    "accuracy = metrics.accuracy_score(Y_test,y_test_pred)\n",
    "print(\"the accuracy score:\",accuracy)\n",
    "# Compute and print the precision of predictions on the test set\n",
    "# INSERT YOUR CODE HERE\n",
    "\n",
    "precision = metrics.precision_score(Y_test,y_test_pred)\n",
    "print(\"the precision score:\",precision)\n",
    "\n",
    "# Compute and print the recall of predictions on the test set\n",
    "# INSERT YOUR CODE HERE\n",
    "recall = metrics.recall_score(Y_test,y_test_pred)\n",
    "print(\"the recall score:\",recall)\n",
    "\n",
    "# Compute and print the f1-score of predictions on the test set\n",
    "# INSERT YOUR CODE HERE\n",
    "f1_score = metrics.f1_score(Y_test,y_test_pred)\n",
    "print(\"the f1 score:\",f1_score)"
   ]
  },
  {
   "cell_type": "markdown",
   "metadata": {},
   "source": [
    "**Note:** We have evaluated the performance of the classification task by different measures. Now, we want to visualise the data as well as the predicted labels. [t-SNE](http://scikit-learn.org/stable/modules/generated/sklearn.manifold.TSNE.html) is a tool to convert high-dimensional data into low-dimensional ones. To visualise the data, we can use t-SNE to reduce the data dimension to 2D.\n",
    "\n",
    "The following function `reduce_to_2D` takes the matrix X of size (n_samples, n_features) and returns a matrix of size (n_samples, 2), which is a dimension-reduced version of X. **You will need this function for a subsequent task**."
   ]
  },
  {
   "cell_type": "code",
   "execution_count": 56,
   "metadata": {},
   "outputs": [],
   "source": [
    "def reduce_to_2D(X):\n",
    "    tsne = TSNE(n_components=2, random_state=1)\n",
    "    new_X = tsne.fit_transform(X)\n",
    "    return new_X"
   ]
  },
  {
   "cell_type": "markdown",
   "metadata": {},
   "source": [
    "**Instruction 2.9**. Visualisation.\n",
    "\n",
    "**Your tasks are:**\n",
    "\n",
    "1. Create a variable named `X_test_2D` that is the dimension-reduced version of X_test using function `reduce_to_2D`. (4 marks)\n",
    "\n",
    "2. Visualise `X_test_2D` using scatter() with the colors being the corresponding predicted labels. (4 marks)\n",
    "\n",
    "\n",
    "[**Total mark: 8**]"
   ]
  },
  {
   "cell_type": "code",
   "execution_count": 57,
   "metadata": {},
   "outputs": [],
   "source": [
    "# YOU ARE REQUIRED TO INSERT YOUR CODES IN THIS CELL\n",
    "'''\n",
    "1. Create a variable named `X_test_2D` \n",
    "    that is the dimension-reduced version of X_test using function `reduce_to_2D`.\n",
    "'''\n",
    "# INSERT YOUR CODE HERE\n",
    "\n",
    "X_test_2D = reduce_to_2D(X_test)"
   ]
  },
  {
   "cell_type": "code",
   "execution_count": 58,
   "metadata": {},
   "outputs": [
    {
     "data": {
      "text/plain": [
       "<matplotlib.legend.Legend at 0x1a32f875ac8>"
      ]
     },
     "execution_count": 58,
     "metadata": {},
     "output_type": "execute_result"
    },
    {
     "data": {
      "image/png": "[encoded data removed]",
      "text/plain": [
       "<Figure size 432x288 with 1 Axes>"
      ]
     },
     "metadata": {
      "needs_background": "light"
     },
     "output_type": "display_data"
    }
   ],
   "source": [
    "# YOU ARE REQUIRED TO INSERT YOUR CODES IN THIS CELL\n",
    "'''\n",
    "2. Visualise `X_test_2D` by scatters with the colors being the corresponding predicted labels.\n",
    "'''\n",
    "X1 = X_test_2D[:,0]\n",
    "X2 = X_test_2D[:,1]\n",
    "# INSERT YOUR CODE HERE\n",
    "colors = ['red' , 'green']\n",
    "for i in range(len(y_test_pred)):\n",
    "    if y_test_pred[i] == 0:\n",
    "        xx = plt.scatter(X1[i],X2[i],s=50,color = colors[0])\n",
    "\n",
    "    else:\n",
    "        yy = plt.scatter(X1[i],X2[i],s=50,color = colors[1])\n",
    "\n",
    "\n",
    "        \n",
    "#plt.scatter(X1,X2,s=50,color = colors)\n",
    "plt.legend((xx,yy),('Malignant','Benign'))"
   ]
  },
  {
   "cell_type": "code",
   "execution_count": 97,
   "metadata": {},
   "outputs": [],
   "source": []
  }
 ],
 "metadata": {
  "kernelspec": {
   "display_name": "Python 3",
   "language": "python",
   "name": "python3"
  },
  "language_info": {
   "codemirror_mode": {
    "name": "ipython",
    "version": 3
   },
   "file_extension": ".py",
   "mimetype": "text/x-python",
   "name": "python",
   "nbconvert_exporter": "python",
   "pygments_lexer": "ipython3",
   "version": "3.7.4"
  }
 },
 "nbformat": 4,
 "nbformat_minor": 1
}
